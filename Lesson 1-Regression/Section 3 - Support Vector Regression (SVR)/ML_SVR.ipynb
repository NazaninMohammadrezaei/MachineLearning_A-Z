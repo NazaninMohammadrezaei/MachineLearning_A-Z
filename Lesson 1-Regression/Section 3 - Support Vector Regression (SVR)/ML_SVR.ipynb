{
 "cells": [
  {
   "cell_type": "code",
   "execution_count": 1,
   "metadata": {},
   "outputs": [
    {
     "name": "stderr",
     "output_type": "stream",
     "text": [
      "C:\\Users\\chortkeh\\anaconda3\\lib\\site-packages\\sklearn\\utils\\validation.py:73: DataConversionWarning: A column-vector y was passed when a 1d array was expected. Please change the shape of y to (n_samples, ), for example using ravel().\n",
      "  return f(**kwargs)\n"
     ]
    },
    {
     "data": {
      "text/plain": [
       "[<matplotlib.lines.Line2D at 0x51c020fa60>]"
      ]
     },
     "execution_count": 1,
     "metadata": {},
     "output_type": "execute_result"
    },
    {
     "data": {
      "image/png": "[encoded data removed]",
      "text/plain": [
       "<Figure size 432x288 with 1 Axes>"
      ]
     },
     "metadata": {
      "needs_background": "light"
     },
     "output_type": "display_data"
    }
   ],
   "source": [
    "'''\n",
    "__ Author __\n",
    "Nazanin Mohammadrezaii\n",
    "\n",
    "__ Topic__\n",
    "Support vector regression\n",
    "\n",
    "__ Date __\n",
    "Sep 2021\n",
    "\n",
    "'''\n",
    "import pandas as pd\n",
    "import numpy as np\n",
    "import matplotlib.pyplot as plt\n",
    "%matplotlib inline\n",
    "\n",
    "# import the dataset\n",
    "df = pd.read_csv('Position_Salaries.csv')\n",
    "X=df.iloc[:,1:2].values\n",
    "Y=df.iloc[:,2:3].values\n",
    "\n",
    "# feature scaling\n",
    "from sklearn.preprocessing import StandardScaler\n",
    "s_sc_x = StandardScaler()\n",
    "s_sc_y = StandardScaler()\n",
    "X = s_sc_x.fit_transform(X)\n",
    "Y = s_sc_y.fit_transform(Y)\n",
    "\n",
    "# SVR\n",
    "from sklearn.svm import SVR\n",
    "regressor = SVR(kernel ='rbf')  # non linear kernel # we know the datais non linear so shouldn't use a linear kernel.\n",
    "regressor.fit(X,Y)\n",
    "\n",
    "# Test the model\n",
    "yhat = s_sc_y.inverse_transform(regressor.predict( s_sc_x.transform(np.array([[6.5]]))))\n",
    "\n",
    "# scatter plot\n",
    "plt.scatter(X,Y,color='red')\n",
    "plt.plot(X,regressor.predict(X),color='blue')"
   ]
  }
 ],
 "metadata": {
  "kernelspec": {
   "display_name": "Python 3",
   "language": "python",
   "name": "python3"
  },
  "language_info": {
   "codemirror_mode": {
    "name": "ipython",
    "version": 3
   },
   "file_extension": ".py",
   "mimetype": "text/x-python",
   "name": "python",
   "nbconvert_exporter": "python",
   "pygments_lexer": "ipython3",
   "version": "3.8.3"
  }
 },
 "nbformat": 4,
 "nbformat_minor": 4
}
